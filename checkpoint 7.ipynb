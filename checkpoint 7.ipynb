{
 "cells": [
  {
   "cell_type": "code",
   "execution_count": null,
   "id": "29828e36",
   "metadata": {},
   "outputs": [],
   "source": [
    "import pandas as pd\n",
    "import numpy as np\n",
    "#dataframe creation\n",
    "mydict  = {'name':['Anastasia','Dima','Katherine','James','Emily','Micheal','Matthew','Laura','Kevin','jonas'],\n",
    "           'score':[12.5,9,16.5,np.nan,9,20,14.5,np.nan,8,19],\n",
    "           'attempts':[1,3,2,3,2,3,1,1,2,1],\n",
    "           'qualify':['yes','no','yes','no','no','yes','yes','no','no','yes']}\n",
    "labels_array=['a','b','c','d','e','f','g','h','i','j']\n",
    "my_array= pd.DataFrame (mydict)\n",
    "my_array.index=labels_array\n",
    "print(my_array)\n",
    "#question1\n",
    "print(\"this is the 3 first rows of your dataframe:\")\n",
    "print(my_array.head(3))\n",
    "#question2\n",
    "print(\"this is your new dataframe:\")\n",
    "print(my_array.dropna())\n",
    "#question3\n",
    "print(\"this is the 2columns name and score:\")\n",
    "print(my_array.loc[:,('name','score')])\n",
    "#question4\n",
    "my_dict2={'name':['Suresh'],'score':[15.5],'attempts':[1],'qualify':['yes']}\n",
    "my_array2=pd.DataFrame(my_dict2)\n",
    "my_array2.index=['k']\n",
    "print(my_array2)\n",
    "my_array=pd.concat([my_array,my_array2])\n",
    "print(\"this is your new dataframe:\")\n",
    "print(my_array)\n",
    "#question5\n",
    "print(\"this is your new dataframe:\")\n",
    "print(my_array.drop('attempts',axis=1))\n",
    "#question6\n",
    "array_score=my_array.loc[:,('score')]\n",
    "list_add=[]\n",
    "for i in array_add :\n",
    "    if i>10:\n",
    "        list_add.append(1)\n",
    "    else: list_add.append(0)\n",
    "my_array['Success']=list_add\n",
    "print(\"this is your new dataframe:\")\n",
    "print(my_array)\n",
    "#question7\n",
    "my_array.to_csv('my_data')"
   ]
  }
 ],
 "metadata": {
  "kernelspec": {
   "display_name": "Python 3",
   "language": "python",
   "name": "python3"
  },
  "language_info": {
   "codemirror_mode": {
    "name": "ipython",
    "version": 3
   },
   "file_extension": ".py",
   "mimetype": "text/x-python",
   "name": "python",
   "nbconvert_exporter": "python",
   "pygments_lexer": "ipython3",
   "version": "3.8.8"
  }
 },
 "nbformat": 4,
 "nbformat_minor": 5
}
